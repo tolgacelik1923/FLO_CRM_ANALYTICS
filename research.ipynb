{
 "cells": [
  {
   "cell_type": "markdown",
   "source": [
    "Import Libraries"
   ],
   "metadata": {
    "collapsed": false
   },
   "id": "3e0a28a823d04cdc"
  },
  {
   "cell_type": "code",
   "execution_count": 16,
   "id": "initial_id",
   "metadata": {
    "collapsed": true,
    "ExecuteTime": {
     "end_time": "2023-12-22T15:46:42.436632100Z",
     "start_time": "2023-12-22T15:46:42.412227800Z"
    }
   },
   "outputs": [],
   "source": [
    "import pandas as pd \n",
    "import numpy as np \n",
    "import datetime as dt\n",
    "import matplotlib.pyplot as plt \n",
    "import seaborn as sns\n",
    "import plotly.express as px\n",
    "import plotly.graph_objects as go\n",
    "from mpl_toolkits.mplot3d import Axes3D\n",
    "from datetime import date\n",
    "\n",
    "import warnings\n",
    "\n",
    "warnings.filterwarnings('ignore')\n",
    "pd.set_option('display.max_columns', None)\n",
    "pd.set_option('display.float_format', lambda x: '%.3f' % x)\n",
    "pd.set_option('display.width', 500)"
   ]
  },
  {
   "cell_type": "markdown",
   "source": [
    "Loading the Dataset"
   ],
   "metadata": {
    "collapsed": false
   },
   "id": "5c15b0a171a02a04"
  },
  {
   "cell_type": "code",
   "execution_count": 2,
   "outputs": [],
   "source": [
    "df_ = pd.read_csv('flo_data_20k.csv')"
   ],
   "metadata": {
    "collapsed": false,
    "ExecuteTime": {
     "end_time": "2023-12-22T15:31:23.201546300Z",
     "start_time": "2023-12-22T15:31:23.045647100Z"
    }
   },
   "id": "556977c9d6d10661"
  },
  {
   "cell_type": "code",
   "execution_count": 3,
   "outputs": [],
   "source": [
    "df = df_.copy()"
   ],
   "metadata": {
    "collapsed": false,
    "ExecuteTime": {
     "end_time": "2023-12-22T15:31:36.820763300Z",
     "start_time": "2023-12-22T15:31:36.792415400Z"
    }
   },
   "id": "14c0abf621c4f9dc"
  },
  {
   "cell_type": "markdown",
   "source": [
    "Data Understanding and Preprecossing"
   ],
   "metadata": {
    "collapsed": false
   },
   "id": "737dd08210839518"
  },
  {
   "cell_type": "code",
   "execution_count": 5,
   "outputs": [
    {
     "data": {
      "text/plain": "                              master_id order_channel last_order_channel first_order_date last_order_date last_order_date_online last_order_date_offline  order_num_total_ever_online  order_num_total_ever_offline  customer_value_total_ever_offline  customer_value_total_ever_online       interested_in_categories_12\n0  cc294636-19f0-11eb-8d74-000d3a38a36f   Android App            Offline       2020-10-30      2021-02-26             2021-02-21              2021-02-26                        4.000                         1.000                            139.990                           799.380                           [KADIN]\n1  f431bd5a-ab7b-11e9-a2fc-000d3a38a36f   Android App             Mobile       2017-02-08      2021-02-16             2021-02-16              2020-01-10                       19.000                         2.000                            159.970                          1853.580  [ERKEK, COCUK, KADIN, AKTIFSPOR]\n2  69b69676-1a40-11ea-941b-000d3a38a36f   Android App        Android App       2019-11-27      2020-11-27             2020-11-27              2019-12-01                        3.000                         2.000                            189.970                           395.350                    [ERKEK, KADIN]\n3  1854e56c-491f-11eb-806e-000d3a38a36f   Android App        Android App       2021-01-06      2021-01-17             2021-01-17              2021-01-06                        1.000                         1.000                             39.990                            81.980               [AKTIFCOCUK, COCUK]\n4  d6ea1074-f1f5-11e9-9346-000d3a38a36f       Desktop            Desktop       2019-08-03      2021-03-07             2021-03-07              2019-08-03                        1.000                         1.000                             49.990                           159.990                       [AKTIFSPOR]\n5  e585280e-aae1-11e9-a2fc-000d3a38a36f       Desktop            Offline       2018-11-18      2021-03-13             2018-11-18              2021-03-13                        1.000                         2.000                            150.870                            49.990                           [KADIN]\n6  c445e4ee-6242-11ea-9d1a-000d3a38a36f   Android App        Android App       2020-03-04      2020-10-18             2020-10-18              2020-03-04                        3.000                         1.000                             59.990                           315.940                       [AKTIFSPOR]\n7  3f1b4dc8-8a7d-11ea-8ec0-000d3a38a36f        Mobile            Offline       2020-05-15      2020-08-12             2020-05-15              2020-08-12                        1.000                         1.000                             49.990                           113.640                           [COCUK]\n8  cfbda69e-5b4f-11ea-aca7-000d3a38a36f   Android App        Android App       2020-01-23      2021-03-07             2021-03-07              2020-01-25                        3.000                         2.000                            120.480                           934.210             [ERKEK, COCUK, KADIN]\n9  1143f032-440d-11ea-8b43-000d3a38a36f        Mobile             Mobile       2019-07-30      2020-10-04             2020-10-04              2019-07-30                        1.000                         1.000                             69.980                            95.980                [KADIN, AKTIFSPOR]",
      "text/html": "<div>\n<style scoped>\n    .dataframe tbody tr th:only-of-type {\n        vertical-align: middle;\n    }\n\n    .dataframe tbody tr th {\n        vertical-align: top;\n    }\n\n    .dataframe thead th {\n        text-align: right;\n    }\n</style>\n<table border=\"1\" class=\"dataframe\">\n  <thead>\n    <tr style=\"text-align: right;\">\n      <th></th>\n      <th>master_id</th>\n      <th>order_channel</th>\n      <th>last_order_channel</th>\n      <th>first_order_date</th>\n      <th>last_order_date</th>\n      <th>last_order_date_online</th>\n      <th>last_order_date_offline</th>\n      <th>order_num_total_ever_online</th>\n      <th>order_num_total_ever_offline</th>\n      <th>customer_value_total_ever_offline</th>\n      <th>customer_value_total_ever_online</th>\n      <th>interested_in_categories_12</th>\n    </tr>\n  </thead>\n  <tbody>\n    <tr>\n      <th>0</th>\n      <td>cc294636-19f0-11eb-8d74-000d3a38a36f</td>\n      <td>Android App</td>\n      <td>Offline</td>\n      <td>2020-10-30</td>\n      <td>2021-02-26</td>\n      <td>2021-02-21</td>\n      <td>2021-02-26</td>\n      <td>4.000</td>\n      <td>1.000</td>\n      <td>139.990</td>\n      <td>799.380</td>\n      <td>[KADIN]</td>\n    </tr>\n    <tr>\n      <th>1</th>\n      <td>f431bd5a-ab7b-11e9-a2fc-000d3a38a36f</td>\n      <td>Android App</td>\n      <td>Mobile</td>\n      <td>2017-02-08</td>\n      <td>2021-02-16</td>\n      <td>2021-02-16</td>\n      <td>2020-01-10</td>\n      <td>19.000</td>\n      <td>2.000</td>\n      <td>159.970</td>\n      <td>1853.580</td>\n      <td>[ERKEK, COCUK, KADIN, AKTIFSPOR]</td>\n    </tr>\n    <tr>\n      <th>2</th>\n      <td>69b69676-1a40-11ea-941b-000d3a38a36f</td>\n      <td>Android App</td>\n      <td>Android App</td>\n      <td>2019-11-27</td>\n      <td>2020-11-27</td>\n      <td>2020-11-27</td>\n      <td>2019-12-01</td>\n      <td>3.000</td>\n      <td>2.000</td>\n      <td>189.970</td>\n      <td>395.350</td>\n      <td>[ERKEK, KADIN]</td>\n    </tr>\n    <tr>\n      <th>3</th>\n      <td>1854e56c-491f-11eb-806e-000d3a38a36f</td>\n      <td>Android App</td>\n      <td>Android App</td>\n      <td>2021-01-06</td>\n      <td>2021-01-17</td>\n      <td>2021-01-17</td>\n      <td>2021-01-06</td>\n      <td>1.000</td>\n      <td>1.000</td>\n      <td>39.990</td>\n      <td>81.980</td>\n      <td>[AKTIFCOCUK, COCUK]</td>\n    </tr>\n    <tr>\n      <th>4</th>\n      <td>d6ea1074-f1f5-11e9-9346-000d3a38a36f</td>\n      <td>Desktop</td>\n      <td>Desktop</td>\n      <td>2019-08-03</td>\n      <td>2021-03-07</td>\n      <td>2021-03-07</td>\n      <td>2019-08-03</td>\n      <td>1.000</td>\n      <td>1.000</td>\n      <td>49.990</td>\n      <td>159.990</td>\n      <td>[AKTIFSPOR]</td>\n    </tr>\n    <tr>\n      <th>5</th>\n      <td>e585280e-aae1-11e9-a2fc-000d3a38a36f</td>\n      <td>Desktop</td>\n      <td>Offline</td>\n      <td>2018-11-18</td>\n      <td>2021-03-13</td>\n      <td>2018-11-18</td>\n      <td>2021-03-13</td>\n      <td>1.000</td>\n      <td>2.000</td>\n      <td>150.870</td>\n      <td>49.990</td>\n      <td>[KADIN]</td>\n    </tr>\n    <tr>\n      <th>6</th>\n      <td>c445e4ee-6242-11ea-9d1a-000d3a38a36f</td>\n      <td>Android App</td>\n      <td>Android App</td>\n      <td>2020-03-04</td>\n      <td>2020-10-18</td>\n      <td>2020-10-18</td>\n      <td>2020-03-04</td>\n      <td>3.000</td>\n      <td>1.000</td>\n      <td>59.990</td>\n      <td>315.940</td>\n      <td>[AKTIFSPOR]</td>\n    </tr>\n    <tr>\n      <th>7</th>\n      <td>3f1b4dc8-8a7d-11ea-8ec0-000d3a38a36f</td>\n      <td>Mobile</td>\n      <td>Offline</td>\n      <td>2020-05-15</td>\n      <td>2020-08-12</td>\n      <td>2020-05-15</td>\n      <td>2020-08-12</td>\n      <td>1.000</td>\n      <td>1.000</td>\n      <td>49.990</td>\n      <td>113.640</td>\n      <td>[COCUK]</td>\n    </tr>\n    <tr>\n      <th>8</th>\n      <td>cfbda69e-5b4f-11ea-aca7-000d3a38a36f</td>\n      <td>Android App</td>\n      <td>Android App</td>\n      <td>2020-01-23</td>\n      <td>2021-03-07</td>\n      <td>2021-03-07</td>\n      <td>2020-01-25</td>\n      <td>3.000</td>\n      <td>2.000</td>\n      <td>120.480</td>\n      <td>934.210</td>\n      <td>[ERKEK, COCUK, KADIN]</td>\n    </tr>\n    <tr>\n      <th>9</th>\n      <td>1143f032-440d-11ea-8b43-000d3a38a36f</td>\n      <td>Mobile</td>\n      <td>Mobile</td>\n      <td>2019-07-30</td>\n      <td>2020-10-04</td>\n      <td>2020-10-04</td>\n      <td>2019-07-30</td>\n      <td>1.000</td>\n      <td>1.000</td>\n      <td>69.980</td>\n      <td>95.980</td>\n      <td>[KADIN, AKTIFSPOR]</td>\n    </tr>\n  </tbody>\n</table>\n</div>"
     },
     "execution_count": 5,
     "metadata": {},
     "output_type": "execute_result"
    }
   ],
   "source": [
    "df.head(10)"
   ],
   "metadata": {
    "collapsed": false,
    "ExecuteTime": {
     "end_time": "2023-12-22T15:33:18.285560800Z",
     "start_time": "2023-12-22T15:33:18.199572400Z"
    }
   },
   "id": "29a5fdcc8ac251ed"
  },
  {
   "cell_type": "code",
   "execution_count": 6,
   "outputs": [
    {
     "data": {
      "text/plain": "(19945, 12)"
     },
     "execution_count": 6,
     "metadata": {},
     "output_type": "execute_result"
    }
   ],
   "source": [
    "df.shape"
   ],
   "metadata": {
    "collapsed": false,
    "ExecuteTime": {
     "end_time": "2023-12-22T15:33:36.615014Z",
     "start_time": "2023-12-22T15:33:36.587768400Z"
    }
   },
   "id": "a73c4f45496f6d44"
  },
  {
   "cell_type": "code",
   "execution_count": 7,
   "outputs": [
    {
     "data": {
      "text/plain": "                                      count    mean     std    min     25%     50%     75%       max\norder_num_total_ever_online       19945.000   3.111   4.226  1.000   1.000   2.000   4.000   200.000\norder_num_total_ever_offline      19945.000   1.914   2.063  1.000   1.000   1.000   2.000   109.000\ncustomer_value_total_ever_offline 19945.000 253.923 301.533 10.000  99.990 179.980 319.970 18119.140\ncustomer_value_total_ever_online  19945.000 497.322 832.602 12.990 149.980 286.460 578.440 45220.130",
      "text/html": "<div>\n<style scoped>\n    .dataframe tbody tr th:only-of-type {\n        vertical-align: middle;\n    }\n\n    .dataframe tbody tr th {\n        vertical-align: top;\n    }\n\n    .dataframe thead th {\n        text-align: right;\n    }\n</style>\n<table border=\"1\" class=\"dataframe\">\n  <thead>\n    <tr style=\"text-align: right;\">\n      <th></th>\n      <th>count</th>\n      <th>mean</th>\n      <th>std</th>\n      <th>min</th>\n      <th>25%</th>\n      <th>50%</th>\n      <th>75%</th>\n      <th>max</th>\n    </tr>\n  </thead>\n  <tbody>\n    <tr>\n      <th>order_num_total_ever_online</th>\n      <td>19945.000</td>\n      <td>3.111</td>\n      <td>4.226</td>\n      <td>1.000</td>\n      <td>1.000</td>\n      <td>2.000</td>\n      <td>4.000</td>\n      <td>200.000</td>\n    </tr>\n    <tr>\n      <th>order_num_total_ever_offline</th>\n      <td>19945.000</td>\n      <td>1.914</td>\n      <td>2.063</td>\n      <td>1.000</td>\n      <td>1.000</td>\n      <td>1.000</td>\n      <td>2.000</td>\n      <td>109.000</td>\n    </tr>\n    <tr>\n      <th>customer_value_total_ever_offline</th>\n      <td>19945.000</td>\n      <td>253.923</td>\n      <td>301.533</td>\n      <td>10.000</td>\n      <td>99.990</td>\n      <td>179.980</td>\n      <td>319.970</td>\n      <td>18119.140</td>\n    </tr>\n    <tr>\n      <th>customer_value_total_ever_online</th>\n      <td>19945.000</td>\n      <td>497.322</td>\n      <td>832.602</td>\n      <td>12.990</td>\n      <td>149.980</td>\n      <td>286.460</td>\n      <td>578.440</td>\n      <td>45220.130</td>\n    </tr>\n  </tbody>\n</table>\n</div>"
     },
     "execution_count": 7,
     "metadata": {},
     "output_type": "execute_result"
    }
   ],
   "source": [
    "df.describe().T"
   ],
   "metadata": {
    "collapsed": false,
    "ExecuteTime": {
     "end_time": "2023-12-22T15:33:53.894183900Z",
     "start_time": "2023-12-22T15:33:53.810219100Z"
    }
   },
   "id": "a60c73d03cb3617e"
  },
  {
   "cell_type": "code",
   "execution_count": 8,
   "outputs": [
    {
     "data": {
      "text/plain": "Index(['master_id', 'order_channel', 'last_order_channel', 'first_order_date', 'last_order_date', 'last_order_date_online', 'last_order_date_offline', 'order_num_total_ever_online', 'order_num_total_ever_offline', 'customer_value_total_ever_offline', 'customer_value_total_ever_online', 'interested_in_categories_12'], dtype='object')"
     },
     "execution_count": 8,
     "metadata": {},
     "output_type": "execute_result"
    }
   ],
   "source": [
    "df.columns"
   ],
   "metadata": {
    "collapsed": false,
    "ExecuteTime": {
     "end_time": "2023-12-22T15:34:23.490397500Z",
     "start_time": "2023-12-22T15:34:23.345279Z"
    }
   },
   "id": "3b68b9c5d5a24c1"
  },
  {
   "cell_type": "code",
   "execution_count": 9,
   "outputs": [
    {
     "name": "stdout",
     "output_type": "stream",
     "text": [
      "<class 'pandas.core.frame.DataFrame'>\n",
      "RangeIndex: 19945 entries, 0 to 19944\n",
      "Data columns (total 12 columns):\n",
      " #   Column                             Non-Null Count  Dtype  \n",
      "---  ------                             --------------  -----  \n",
      " 0   master_id                          19945 non-null  object \n",
      " 1   order_channel                      19945 non-null  object \n",
      " 2   last_order_channel                 19945 non-null  object \n",
      " 3   first_order_date                   19945 non-null  object \n",
      " 4   last_order_date                    19945 non-null  object \n",
      " 5   last_order_date_online             19945 non-null  object \n",
      " 6   last_order_date_offline            19945 non-null  object \n",
      " 7   order_num_total_ever_online        19945 non-null  float64\n",
      " 8   order_num_total_ever_offline       19945 non-null  float64\n",
      " 9   customer_value_total_ever_offline  19945 non-null  float64\n",
      " 10  customer_value_total_ever_online   19945 non-null  float64\n",
      " 11  interested_in_categories_12        19945 non-null  object \n",
      "dtypes: float64(4), object(8)\n",
      "memory usage: 1.8+ MB\n"
     ]
    }
   ],
   "source": [
    "df.info()"
   ],
   "metadata": {
    "collapsed": false,
    "ExecuteTime": {
     "end_time": "2023-12-22T15:34:32.736803900Z",
     "start_time": "2023-12-22T15:34:32.577296200Z"
    }
   },
   "id": "a4570816fafcb62b"
  },
  {
   "cell_type": "code",
   "execution_count": 10,
   "outputs": [
    {
     "data": {
      "text/plain": "master_id                            0\norder_channel                        0\nlast_order_channel                   0\nfirst_order_date                     0\nlast_order_date                      0\nlast_order_date_online               0\nlast_order_date_offline              0\norder_num_total_ever_online          0\norder_num_total_ever_offline         0\ncustomer_value_total_ever_offline    0\ncustomer_value_total_ever_online     0\ninterested_in_categories_12          0\ndtype: int64"
     },
     "execution_count": 10,
     "metadata": {},
     "output_type": "execute_result"
    }
   ],
   "source": [
    "df.isnull().sum()"
   ],
   "metadata": {
    "collapsed": false,
    "ExecuteTime": {
     "end_time": "2023-12-22T15:35:12.897861800Z",
     "start_time": "2023-12-22T15:35:12.847846Z"
    }
   },
   "id": "4459da390c4966fe"
  },
  {
   "cell_type": "markdown",
   "source": [
    "New Variables"
   ],
   "metadata": {
    "collapsed": false
   },
   "id": "66737868e229a53a"
  },
  {
   "cell_type": "code",
   "execution_count": 11,
   "outputs": [
    {
     "data": {
      "text/plain": "                              master_id order_channel last_order_channel first_order_date last_order_date last_order_date_online last_order_date_offline  order_num_total_ever_online  order_num_total_ever_offline  customer_value_total_ever_offline  customer_value_total_ever_online       interested_in_categories_12  customer_value_total_price  order_num_total\n0  cc294636-19f0-11eb-8d74-000d3a38a36f   Android App            Offline       2020-10-30      2021-02-26             2021-02-21              2021-02-26                        4.000                         1.000                            139.990                           799.380                           [KADIN]                     939.370            5.000\n1  f431bd5a-ab7b-11e9-a2fc-000d3a38a36f   Android App             Mobile       2017-02-08      2021-02-16             2021-02-16              2020-01-10                       19.000                         2.000                            159.970                          1853.580  [ERKEK, COCUK, KADIN, AKTIFSPOR]                    2013.550           21.000\n2  69b69676-1a40-11ea-941b-000d3a38a36f   Android App        Android App       2019-11-27      2020-11-27             2020-11-27              2019-12-01                        3.000                         2.000                            189.970                           395.350                    [ERKEK, KADIN]                     585.320            5.000\n3  1854e56c-491f-11eb-806e-000d3a38a36f   Android App        Android App       2021-01-06      2021-01-17             2021-01-17              2021-01-06                        1.000                         1.000                             39.990                            81.980               [AKTIFCOCUK, COCUK]                     121.970            2.000\n4  d6ea1074-f1f5-11e9-9346-000d3a38a36f       Desktop            Desktop       2019-08-03      2021-03-07             2021-03-07              2019-08-03                        1.000                         1.000                             49.990                           159.990                       [AKTIFSPOR]                     209.980            2.000",
      "text/html": "<div>\n<style scoped>\n    .dataframe tbody tr th:only-of-type {\n        vertical-align: middle;\n    }\n\n    .dataframe tbody tr th {\n        vertical-align: top;\n    }\n\n    .dataframe thead th {\n        text-align: right;\n    }\n</style>\n<table border=\"1\" class=\"dataframe\">\n  <thead>\n    <tr style=\"text-align: right;\">\n      <th></th>\n      <th>master_id</th>\n      <th>order_channel</th>\n      <th>last_order_channel</th>\n      <th>first_order_date</th>\n      <th>last_order_date</th>\n      <th>last_order_date_online</th>\n      <th>last_order_date_offline</th>\n      <th>order_num_total_ever_online</th>\n      <th>order_num_total_ever_offline</th>\n      <th>customer_value_total_ever_offline</th>\n      <th>customer_value_total_ever_online</th>\n      <th>interested_in_categories_12</th>\n      <th>customer_value_total_price</th>\n      <th>order_num_total</th>\n    </tr>\n  </thead>\n  <tbody>\n    <tr>\n      <th>0</th>\n      <td>cc294636-19f0-11eb-8d74-000d3a38a36f</td>\n      <td>Android App</td>\n      <td>Offline</td>\n      <td>2020-10-30</td>\n      <td>2021-02-26</td>\n      <td>2021-02-21</td>\n      <td>2021-02-26</td>\n      <td>4.000</td>\n      <td>1.000</td>\n      <td>139.990</td>\n      <td>799.380</td>\n      <td>[KADIN]</td>\n      <td>939.370</td>\n      <td>5.000</td>\n    </tr>\n    <tr>\n      <th>1</th>\n      <td>f431bd5a-ab7b-11e9-a2fc-000d3a38a36f</td>\n      <td>Android App</td>\n      <td>Mobile</td>\n      <td>2017-02-08</td>\n      <td>2021-02-16</td>\n      <td>2021-02-16</td>\n      <td>2020-01-10</td>\n      <td>19.000</td>\n      <td>2.000</td>\n      <td>159.970</td>\n      <td>1853.580</td>\n      <td>[ERKEK, COCUK, KADIN, AKTIFSPOR]</td>\n      <td>2013.550</td>\n      <td>21.000</td>\n    </tr>\n    <tr>\n      <th>2</th>\n      <td>69b69676-1a40-11ea-941b-000d3a38a36f</td>\n      <td>Android App</td>\n      <td>Android App</td>\n      <td>2019-11-27</td>\n      <td>2020-11-27</td>\n      <td>2020-11-27</td>\n      <td>2019-12-01</td>\n      <td>3.000</td>\n      <td>2.000</td>\n      <td>189.970</td>\n      <td>395.350</td>\n      <td>[ERKEK, KADIN]</td>\n      <td>585.320</td>\n      <td>5.000</td>\n    </tr>\n    <tr>\n      <th>3</th>\n      <td>1854e56c-491f-11eb-806e-000d3a38a36f</td>\n      <td>Android App</td>\n      <td>Android App</td>\n      <td>2021-01-06</td>\n      <td>2021-01-17</td>\n      <td>2021-01-17</td>\n      <td>2021-01-06</td>\n      <td>1.000</td>\n      <td>1.000</td>\n      <td>39.990</td>\n      <td>81.980</td>\n      <td>[AKTIFCOCUK, COCUK]</td>\n      <td>121.970</td>\n      <td>2.000</td>\n    </tr>\n    <tr>\n      <th>4</th>\n      <td>d6ea1074-f1f5-11e9-9346-000d3a38a36f</td>\n      <td>Desktop</td>\n      <td>Desktop</td>\n      <td>2019-08-03</td>\n      <td>2021-03-07</td>\n      <td>2021-03-07</td>\n      <td>2019-08-03</td>\n      <td>1.000</td>\n      <td>1.000</td>\n      <td>49.990</td>\n      <td>159.990</td>\n      <td>[AKTIFSPOR]</td>\n      <td>209.980</td>\n      <td>2.000</td>\n    </tr>\n  </tbody>\n</table>\n</div>"
     },
     "execution_count": 11,
     "metadata": {},
     "output_type": "execute_result"
    }
   ],
   "source": [
    "df['customer_value_total_price'] = df['customer_value_total_ever_online'] + df['customer_value_total_ever_offline']\n",
    "\n",
    "df['order_num_total'] = df['order_num_total_ever_offline'] + df['order_num_total_ever_online']\n",
    "\n",
    "df.head()"
   ],
   "metadata": {
    "collapsed": false,
    "ExecuteTime": {
     "end_time": "2023-12-22T15:40:27.384154800Z",
     "start_time": "2023-12-22T15:40:27.295962200Z"
    }
   },
   "id": "f5dd621e5e524068"
  },
  {
   "cell_type": "code",
   "execution_count": 12,
   "outputs": [
    {
     "data": {
      "text/plain": "master_id                             object\norder_channel                         object\nlast_order_channel                    object\nfirst_order_date                      object\nlast_order_date                       object\nlast_order_date_online                object\nlast_order_date_offline               object\norder_num_total_ever_online          float64\norder_num_total_ever_offline         float64\ncustomer_value_total_ever_offline    float64\ncustomer_value_total_ever_online     float64\ninterested_in_categories_12           object\ncustomer_value_total_price           float64\norder_num_total                      float64\ndtype: object"
     },
     "execution_count": 12,
     "metadata": {},
     "output_type": "execute_result"
    }
   ],
   "source": [
    "df.dtypes       "
   ],
   "metadata": {
    "collapsed": false,
    "ExecuteTime": {
     "end_time": "2023-12-22T15:44:25.016930300Z",
     "start_time": "2023-12-22T15:44:24.993028200Z"
    }
   },
   "id": "236a892206dfba32"
  },
  {
   "cell_type": "code",
   "execution_count": 21,
   "outputs": [],
   "source": [
    "df = df.astype({'first_order_date' : 'datetime64[ns]',\n",
    "           'last_order_date' : 'datetime64[ns]',\n",
    "           'last_order_date_online' : 'datetime64[ns]',\n",
    "           'last_order_date_offline' : 'datetime64[ns]'})"
   ],
   "metadata": {
    "collapsed": false,
    "ExecuteTime": {
     "end_time": "2023-12-22T15:50:56.920569300Z",
     "start_time": "2023-12-22T15:50:56.856783Z"
    }
   },
   "id": "134b223590cf2816"
  },
  {
   "cell_type": "code",
   "execution_count": 22,
   "outputs": [
    {
     "data": {
      "text/plain": "master_id                                    object\norder_channel                                object\nlast_order_channel                           object\nfirst_order_date                     datetime64[ns]\nlast_order_date                      datetime64[ns]\nlast_order_date_online               datetime64[ns]\nlast_order_date_offline              datetime64[ns]\norder_num_total_ever_online                 float64\norder_num_total_ever_offline                float64\ncustomer_value_total_ever_offline           float64\ncustomer_value_total_ever_online            float64\ninterested_in_categories_12                  object\ncustomer_value_total_price                  float64\norder_num_total                             float64\ndtype: object"
     },
     "execution_count": 22,
     "metadata": {},
     "output_type": "execute_result"
    }
   ],
   "source": [
    "df.dtypes"
   ],
   "metadata": {
    "collapsed": false,
    "ExecuteTime": {
     "end_time": "2023-12-22T15:50:59.528710100Z",
     "start_time": "2023-12-22T15:50:59.516092500Z"
    }
   },
   "id": "e40a4df927d5380a"
  },
  {
   "cell_type": "code",
   "execution_count": 24,
   "outputs": [
    {
     "data": {
      "text/plain": "               master_id  order_num_total  customer_value_total_price\norder_channel                                                        \nAndroid App         9495        52269.000                 7819062.760\nDesktop             2735        10920.000                 1610321.460\nIos App             2833        15351.000                 2525999.930\nMobile              4882        21679.000                 3028183.160",
      "text/html": "<div>\n<style scoped>\n    .dataframe tbody tr th:only-of-type {\n        vertical-align: middle;\n    }\n\n    .dataframe tbody tr th {\n        vertical-align: top;\n    }\n\n    .dataframe thead th {\n        text-align: right;\n    }\n</style>\n<table border=\"1\" class=\"dataframe\">\n  <thead>\n    <tr style=\"text-align: right;\">\n      <th></th>\n      <th>master_id</th>\n      <th>order_num_total</th>\n      <th>customer_value_total_price</th>\n    </tr>\n    <tr>\n      <th>order_channel</th>\n      <th></th>\n      <th></th>\n      <th></th>\n    </tr>\n  </thead>\n  <tbody>\n    <tr>\n      <th>Android App</th>\n      <td>9495</td>\n      <td>52269.000</td>\n      <td>7819062.760</td>\n    </tr>\n    <tr>\n      <th>Desktop</th>\n      <td>2735</td>\n      <td>10920.000</td>\n      <td>1610321.460</td>\n    </tr>\n    <tr>\n      <th>Ios App</th>\n      <td>2833</td>\n      <td>15351.000</td>\n      <td>2525999.930</td>\n    </tr>\n    <tr>\n      <th>Mobile</th>\n      <td>4882</td>\n      <td>21679.000</td>\n      <td>3028183.160</td>\n    </tr>\n  </tbody>\n</table>\n</div>"
     },
     "execution_count": 24,
     "metadata": {},
     "output_type": "execute_result"
    }
   ],
   "source": [
    "df.groupby('order_channel').agg({'master_id' : 'count',\n",
    "                                 'order_num_total' : 'sum',\n",
    "                                 'customer_value_total_price' : 'sum'})"
   ],
   "metadata": {
    "collapsed": false,
    "ExecuteTime": {
     "end_time": "2023-12-22T15:55:04.538778100Z",
     "start_time": "2023-12-22T15:55:04.485729600Z"
    }
   },
   "id": "a5947db51a4e4bdc"
  },
  {
   "cell_type": "code",
   "execution_count": 26,
   "outputs": [
    {
     "data": {
      "text/plain": "11150   45905.100\n4315    36818.290\n7613    33918.100\n13880   31227.410\n9055    20706.340\n7330    18443.570\n8068    16918.570\n163     12726.100\n7223    12282.240\n18767   12103.150\nName: customer_value_total_price, dtype: float64"
     },
     "execution_count": 26,
     "metadata": {},
     "output_type": "execute_result"
    }
   ],
   "source": [
    "df['customer_value_total_price'].sort_values(ascending=False).head(10)"
   ],
   "metadata": {
    "collapsed": false,
    "ExecuteTime": {
     "end_time": "2023-12-22T15:57:03.968215900Z",
     "start_time": "2023-12-22T15:57:03.924433700Z"
    }
   },
   "id": "3426ec1d488a6c59"
  },
  {
   "cell_type": "code",
   "execution_count": 27,
   "outputs": [
    {
     "data": {
      "text/plain": "11150   202.000\n7223    131.000\n8783    111.000\n2619     88.000\n6322     83.000\n7613     82.000\n9347     77.000\n10954    75.000\n8068     70.000\n7330     70.000\nName: order_num_total, dtype: float64"
     },
     "execution_count": 27,
     "metadata": {},
     "output_type": "execute_result"
    }
   ],
   "source": [
    "df['order_num_total'].sort_values(ascending=False).head(10)"
   ],
   "metadata": {
    "collapsed": false,
    "ExecuteTime": {
     "end_time": "2023-12-22T15:57:25.622033100Z",
     "start_time": "2023-12-22T15:57:25.546175600Z"
    }
   },
   "id": "831609f60041ef85"
  },
  {
   "cell_type": "markdown",
   "source": [
    "Functionalisation of Preprocessing Steps"
   ],
   "metadata": {
    "collapsed": false
   },
   "id": "7550ec51ab0f3521"
  },
  {
   "cell_type": "code",
   "execution_count": 28,
   "outputs": [],
   "source": [
    "def rfm_prep(dataframe):\n",
    "    dataframe['customer_value_total_price'] = dataframe['customer_value_total_ever_online'] + dataframe['customer_value_total_ever_offline']\n",
    "    dataframe['order_num_total'] = dataframe['order_num_total_ever_offline'] + dataframe['order_num_total_ever_online']\n",
    "    dataframe = dataframe.astype({'first_order_date' : 'datetime64[ns]',\n",
    "                                  'last_order_date' : 'datetime64[ns]',\n",
    "                                  'last_order_date_online' : 'datetime64[ns]',\n",
    "                                  'last_order_date_offline' : 'datetime64[ns]'})\n",
    "    return dataframe"
   ],
   "metadata": {
    "collapsed": false,
    "ExecuteTime": {
     "end_time": "2023-12-22T16:00:07.483417800Z",
     "start_time": "2023-12-22T16:00:07.453398900Z"
    }
   },
   "id": "29bc752ee19b5b9c"
  },
  {
   "cell_type": "markdown",
   "source": [
    "RFM Metrics and Score"
   ],
   "metadata": {
    "collapsed": false
   },
   "id": "b1ab3490bf371dfa"
  },
  {
   "cell_type": "code",
   "execution_count": 32,
   "outputs": [],
   "source": [
    "today_date = dt.datetime(2021, 5, 31)"
   ],
   "metadata": {
    "collapsed": false,
    "ExecuteTime": {
     "end_time": "2023-12-22T16:04:29.372137100Z",
     "start_time": "2023-12-22T16:04:29.338571900Z"
    }
   },
   "id": "2384e821730f7abf"
  },
  {
   "cell_type": "code",
   "execution_count": 33,
   "outputs": [],
   "source": [
    "rfm = df.groupby(\"master_id\").agg({\"last_order_date\" : lambda last_order_date: (today_date - last_order_date.max()).days,\n",
    "                                    \"order_num_total\" : lambda order_num_total : order_num_total.nunique(),\n",
    "                                    \"customer_value_total_price\" : lambda customer_value_total_price: customer_value_total_price.sum()})\n",
    "rfm.columns = [\"Recency\", \"Frequency\", \"Monetary\"]"
   ],
   "metadata": {
    "collapsed": false,
    "ExecuteTime": {
     "end_time": "2023-12-22T16:09:40.704624900Z",
     "start_time": "2023-12-22T16:09:35.233325700Z"
    }
   },
   "id": "585579b3b3b3c3d8"
  },
  {
   "cell_type": "code",
   "execution_count": 36,
   "outputs": [],
   "source": [
    "rfm['recency_score'] = pd.qcut(rfm['Recency'], 5, labels=[5,4,3,2,1])\n",
    "rfm['frequency_score'] = pd.qcut(rfm['Frequency'].rank(method='first'), 5, labels=[1,2,3,4,5])\n",
    "rfm['monetary_score'] = pd.qcut(rfm['Monetary'], 5, labels=[1,2,3,4,5])"
   ],
   "metadata": {
    "collapsed": false,
    "ExecuteTime": {
     "end_time": "2023-12-22T16:13:49.742222900Z",
     "start_time": "2023-12-22T16:13:49.701088Z"
    }
   },
   "id": "d5251686a82cb83b"
  },
  {
   "cell_type": "code",
   "execution_count": 39,
   "outputs": [],
   "source": [
    "rfm['RF_SCORE'] = (rfm['recency_score'].astype(str) +\n",
    "                   rfm['frequency_score'].astype(str))"
   ],
   "metadata": {
    "collapsed": false,
    "ExecuteTime": {
     "end_time": "2023-12-22T16:15:47.051662900Z",
     "start_time": "2023-12-22T16:15:46.999563300Z"
    }
   },
   "id": "67b00e21caf42aff"
  },
  {
   "cell_type": "code",
   "execution_count": 40,
   "outputs": [
    {
     "data": {
      "text/plain": "                                      Recency  Frequency  Monetary recency_score frequency_score monetary_score RF_SCORE\nmaster_id                                                                                                               \n00016786-2f5a-11ea-bb80-000d3a38a36f        9          1   776.070             5               1              4       51\n00034aaa-a838-11e9-a2fc-000d3a38a36f      297          1   269.470             1               1              1       11\n000be838-85df-11ea-a90b-000d3a38a36f      212          1   722.690             2               1              4       21\n000c1fe2-a8b7-11ea-8479-000d3a38a36f       26          1   874.160             5               1              4       51\n000f5e3e-9dde-11ea-80cd-000d3a38a36f       19          1  1620.330             5               1              5       51",
      "text/html": "<div>\n<style scoped>\n    .dataframe tbody tr th:only-of-type {\n        vertical-align: middle;\n    }\n\n    .dataframe tbody tr th {\n        vertical-align: top;\n    }\n\n    .dataframe thead th {\n        text-align: right;\n    }\n</style>\n<table border=\"1\" class=\"dataframe\">\n  <thead>\n    <tr style=\"text-align: right;\">\n      <th></th>\n      <th>Recency</th>\n      <th>Frequency</th>\n      <th>Monetary</th>\n      <th>recency_score</th>\n      <th>frequency_score</th>\n      <th>monetary_score</th>\n      <th>RF_SCORE</th>\n    </tr>\n    <tr>\n      <th>master_id</th>\n      <th></th>\n      <th></th>\n      <th></th>\n      <th></th>\n      <th></th>\n      <th></th>\n      <th></th>\n    </tr>\n  </thead>\n  <tbody>\n    <tr>\n      <th>00016786-2f5a-11ea-bb80-000d3a38a36f</th>\n      <td>9</td>\n      <td>1</td>\n      <td>776.070</td>\n      <td>5</td>\n      <td>1</td>\n      <td>4</td>\n      <td>51</td>\n    </tr>\n    <tr>\n      <th>00034aaa-a838-11e9-a2fc-000d3a38a36f</th>\n      <td>297</td>\n      <td>1</td>\n      <td>269.470</td>\n      <td>1</td>\n      <td>1</td>\n      <td>1</td>\n      <td>11</td>\n    </tr>\n    <tr>\n      <th>000be838-85df-11ea-a90b-000d3a38a36f</th>\n      <td>212</td>\n      <td>1</td>\n      <td>722.690</td>\n      <td>2</td>\n      <td>1</td>\n      <td>4</td>\n      <td>21</td>\n    </tr>\n    <tr>\n      <th>000c1fe2-a8b7-11ea-8479-000d3a38a36f</th>\n      <td>26</td>\n      <td>1</td>\n      <td>874.160</td>\n      <td>5</td>\n      <td>1</td>\n      <td>4</td>\n      <td>51</td>\n    </tr>\n    <tr>\n      <th>000f5e3e-9dde-11ea-80cd-000d3a38a36f</th>\n      <td>19</td>\n      <td>1</td>\n      <td>1620.330</td>\n      <td>5</td>\n      <td>1</td>\n      <td>5</td>\n      <td>51</td>\n    </tr>\n  </tbody>\n</table>\n</div>"
     },
     "execution_count": 40,
     "metadata": {},
     "output_type": "execute_result"
    }
   ],
   "source": [
    "rfm.head()"
   ],
   "metadata": {
    "collapsed": false,
    "ExecuteTime": {
     "end_time": "2023-12-22T16:15:55.012533Z",
     "start_time": "2023-12-22T16:15:54.973328300Z"
    }
   },
   "id": "5704070d6b323df4"
  },
  {
   "cell_type": "markdown",
   "source": [
    "Segmentation"
   ],
   "metadata": {
    "collapsed": false
   },
   "id": "f093971a4f0a5e7d"
  },
  {
   "cell_type": "code",
   "execution_count": 38,
   "outputs": [],
   "source": [
    "seg_map = {\n",
    "    r'[1-2]{2}': 'hibernating',\n",
    "    r'[1-2][3-4]': 'at_Risk',\n",
    "    r'[1-2]5': 'cant_loose',\n",
    "    r'3[1-2]': 'about_to_sleep',\n",
    "    r'33': 'need_attention',\n",
    "    r'[3-4][4-5]': 'loyal_customers',\n",
    "    r'41': 'promising',\n",
    "    r'51': 'new_customers',\n",
    "    r'[4-5][2-3]': 'potential_loyalists',\n",
    "    r'5[4-5]': 'champions'\n",
    "}"
   ],
   "metadata": {
    "collapsed": false,
    "ExecuteTime": {
     "end_time": "2023-12-22T16:14:37.246698500Z",
     "start_time": "2023-12-22T16:14:37.192896200Z"
    }
   },
   "id": "2eb260ddc44bc593"
  },
  {
   "cell_type": "code",
   "execution_count": 41,
   "outputs": [],
   "source": [
    "rfm['segment'] = rfm['RF_SCORE'].replace(seg_map, regex=True)"
   ],
   "metadata": {
    "collapsed": false,
    "ExecuteTime": {
     "end_time": "2023-12-22T16:16:03.899270900Z",
     "start_time": "2023-12-22T16:16:03.503931500Z"
    }
   },
   "id": "2371c881b511b7d1"
  },
  {
   "cell_type": "code",
   "execution_count": 42,
   "outputs": [
    {
     "data": {
      "text/plain": "                                      Recency  Frequency  Monetary recency_score frequency_score monetary_score RF_SCORE        segment\nmaster_id                                                                                                                              \n00016786-2f5a-11ea-bb80-000d3a38a36f        9          1   776.070             5               1              4       51  new_customers\n00034aaa-a838-11e9-a2fc-000d3a38a36f      297          1   269.470             1               1              1       11    hibernating\n000be838-85df-11ea-a90b-000d3a38a36f      212          1   722.690             2               1              4       21    hibernating\n000c1fe2-a8b7-11ea-8479-000d3a38a36f       26          1   874.160             5               1              4       51  new_customers\n000f5e3e-9dde-11ea-80cd-000d3a38a36f       19          1  1620.330             5               1              5       51  new_customers",
      "text/html": "<div>\n<style scoped>\n    .dataframe tbody tr th:only-of-type {\n        vertical-align: middle;\n    }\n\n    .dataframe tbody tr th {\n        vertical-align: top;\n    }\n\n    .dataframe thead th {\n        text-align: right;\n    }\n</style>\n<table border=\"1\" class=\"dataframe\">\n  <thead>\n    <tr style=\"text-align: right;\">\n      <th></th>\n      <th>Recency</th>\n      <th>Frequency</th>\n      <th>Monetary</th>\n      <th>recency_score</th>\n      <th>frequency_score</th>\n      <th>monetary_score</th>\n      <th>RF_SCORE</th>\n      <th>segment</th>\n    </tr>\n    <tr>\n      <th>master_id</th>\n      <th></th>\n      <th></th>\n      <th></th>\n      <th></th>\n      <th></th>\n      <th></th>\n      <th></th>\n      <th></th>\n    </tr>\n  </thead>\n  <tbody>\n    <tr>\n      <th>00016786-2f5a-11ea-bb80-000d3a38a36f</th>\n      <td>9</td>\n      <td>1</td>\n      <td>776.070</td>\n      <td>5</td>\n      <td>1</td>\n      <td>4</td>\n      <td>51</td>\n      <td>new_customers</td>\n    </tr>\n    <tr>\n      <th>00034aaa-a838-11e9-a2fc-000d3a38a36f</th>\n      <td>297</td>\n      <td>1</td>\n      <td>269.470</td>\n      <td>1</td>\n      <td>1</td>\n      <td>1</td>\n      <td>11</td>\n      <td>hibernating</td>\n    </tr>\n    <tr>\n      <th>000be838-85df-11ea-a90b-000d3a38a36f</th>\n      <td>212</td>\n      <td>1</td>\n      <td>722.690</td>\n      <td>2</td>\n      <td>1</td>\n      <td>4</td>\n      <td>21</td>\n      <td>hibernating</td>\n    </tr>\n    <tr>\n      <th>000c1fe2-a8b7-11ea-8479-000d3a38a36f</th>\n      <td>26</td>\n      <td>1</td>\n      <td>874.160</td>\n      <td>5</td>\n      <td>1</td>\n      <td>4</td>\n      <td>51</td>\n      <td>new_customers</td>\n    </tr>\n    <tr>\n      <th>000f5e3e-9dde-11ea-80cd-000d3a38a36f</th>\n      <td>19</td>\n      <td>1</td>\n      <td>1620.330</td>\n      <td>5</td>\n      <td>1</td>\n      <td>5</td>\n      <td>51</td>\n      <td>new_customers</td>\n    </tr>\n  </tbody>\n</table>\n</div>"
     },
     "execution_count": 42,
     "metadata": {},
     "output_type": "execute_result"
    }
   ],
   "source": [
    "rfm.head()"
   ],
   "metadata": {
    "collapsed": false,
    "ExecuteTime": {
     "end_time": "2023-12-22T16:16:11.371790800Z",
     "start_time": "2023-12-22T16:16:11.325776400Z"
    }
   },
   "id": "c56514a3560fe6fc"
  },
  {
   "cell_type": "code",
   "execution_count": 43,
   "outputs": [
    {
     "data": {
      "text/plain": "                    Recency               Frequency             Monetary                  \n                       mean     sum count      mean   sum count     mean         sum count\nsegment                                                                                   \nabout_to_sleep      112.397  179498  1597     1.000  1597  1597  696.261 1111928.680  1597\nat_Risk             242.290  764184  3154     1.000  3154  3154  652.210 2057070.710  3154\ncant_loose          242.276  392730  1621     1.000  1621  1621  663.802 1076023.730  1621\nchampions            16.442   26209  1594     1.000  1594  1594  921.381 1468681.460  1594\nhibernating         242.964  767765  3160     1.000  3160  3160  626.845 1980830.560  3160\nloyal_customers      85.465  271692  3179     1.000  3179  3179  784.635 2494355.380  3179\nneed_attention      111.618   87062   780     1.000   780   780  716.808  559109.980   780\nnew_customers        16.390   13800   842     1.000   842   842  917.126  772219.700   842\npotential_loyalists  35.558  115457  3247     1.000  3247  3247  880.912 2860320.560  3247\npromising            56.329   43430   771     1.000   771   771  782.136  603026.550   771",
      "text/html": "<div>\n<style scoped>\n    .dataframe tbody tr th:only-of-type {\n        vertical-align: middle;\n    }\n\n    .dataframe tbody tr th {\n        vertical-align: top;\n    }\n\n    .dataframe thead tr th {\n        text-align: left;\n    }\n\n    .dataframe thead tr:last-of-type th {\n        text-align: right;\n    }\n</style>\n<table border=\"1\" class=\"dataframe\">\n  <thead>\n    <tr>\n      <th></th>\n      <th colspan=\"3\" halign=\"left\">Recency</th>\n      <th colspan=\"3\" halign=\"left\">Frequency</th>\n      <th colspan=\"3\" halign=\"left\">Monetary</th>\n    </tr>\n    <tr>\n      <th></th>\n      <th>mean</th>\n      <th>sum</th>\n      <th>count</th>\n      <th>mean</th>\n      <th>sum</th>\n      <th>count</th>\n      <th>mean</th>\n      <th>sum</th>\n      <th>count</th>\n    </tr>\n    <tr>\n      <th>segment</th>\n      <th></th>\n      <th></th>\n      <th></th>\n      <th></th>\n      <th></th>\n      <th></th>\n      <th></th>\n      <th></th>\n      <th></th>\n    </tr>\n  </thead>\n  <tbody>\n    <tr>\n      <th>about_to_sleep</th>\n      <td>112.397</td>\n      <td>179498</td>\n      <td>1597</td>\n      <td>1.000</td>\n      <td>1597</td>\n      <td>1597</td>\n      <td>696.261</td>\n      <td>1111928.680</td>\n      <td>1597</td>\n    </tr>\n    <tr>\n      <th>at_Risk</th>\n      <td>242.290</td>\n      <td>764184</td>\n      <td>3154</td>\n      <td>1.000</td>\n      <td>3154</td>\n      <td>3154</td>\n      <td>652.210</td>\n      <td>2057070.710</td>\n      <td>3154</td>\n    </tr>\n    <tr>\n      <th>cant_loose</th>\n      <td>242.276</td>\n      <td>392730</td>\n      <td>1621</td>\n      <td>1.000</td>\n      <td>1621</td>\n      <td>1621</td>\n      <td>663.802</td>\n      <td>1076023.730</td>\n      <td>1621</td>\n    </tr>\n    <tr>\n      <th>champions</th>\n      <td>16.442</td>\n      <td>26209</td>\n      <td>1594</td>\n      <td>1.000</td>\n      <td>1594</td>\n      <td>1594</td>\n      <td>921.381</td>\n      <td>1468681.460</td>\n      <td>1594</td>\n    </tr>\n    <tr>\n      <th>hibernating</th>\n      <td>242.964</td>\n      <td>767765</td>\n      <td>3160</td>\n      <td>1.000</td>\n      <td>3160</td>\n      <td>3160</td>\n      <td>626.845</td>\n      <td>1980830.560</td>\n      <td>3160</td>\n    </tr>\n    <tr>\n      <th>loyal_customers</th>\n      <td>85.465</td>\n      <td>271692</td>\n      <td>3179</td>\n      <td>1.000</td>\n      <td>3179</td>\n      <td>3179</td>\n      <td>784.635</td>\n      <td>2494355.380</td>\n      <td>3179</td>\n    </tr>\n    <tr>\n      <th>need_attention</th>\n      <td>111.618</td>\n      <td>87062</td>\n      <td>780</td>\n      <td>1.000</td>\n      <td>780</td>\n      <td>780</td>\n      <td>716.808</td>\n      <td>559109.980</td>\n      <td>780</td>\n    </tr>\n    <tr>\n      <th>new_customers</th>\n      <td>16.390</td>\n      <td>13800</td>\n      <td>842</td>\n      <td>1.000</td>\n      <td>842</td>\n      <td>842</td>\n      <td>917.126</td>\n      <td>772219.700</td>\n      <td>842</td>\n    </tr>\n    <tr>\n      <th>potential_loyalists</th>\n      <td>35.558</td>\n      <td>115457</td>\n      <td>3247</td>\n      <td>1.000</td>\n      <td>3247</td>\n      <td>3247</td>\n      <td>880.912</td>\n      <td>2860320.560</td>\n      <td>3247</td>\n    </tr>\n    <tr>\n      <th>promising</th>\n      <td>56.329</td>\n      <td>43430</td>\n      <td>771</td>\n      <td>1.000</td>\n      <td>771</td>\n      <td>771</td>\n      <td>782.136</td>\n      <td>603026.550</td>\n      <td>771</td>\n    </tr>\n  </tbody>\n</table>\n</div>"
     },
     "execution_count": 43,
     "metadata": {},
     "output_type": "execute_result"
    }
   ],
   "source": [
    "rfm[[\"segment\", \"Recency\", \"Frequency\", \"Monetary\"]].groupby(\"segment\").agg([\"mean\", \"sum\", \"count\"])"
   ],
   "metadata": {
    "collapsed": false,
    "ExecuteTime": {
     "end_time": "2023-12-22T16:16:51.533900200Z",
     "start_time": "2023-12-22T16:16:51.421985200Z"
    }
   },
   "id": "e42d620204a0b42c"
  },
  {
   "cell_type": "code",
   "execution_count": 46,
   "outputs": [
    {
     "data": {
      "text/plain": "                                      Recency  Frequency  Monetary recency_score frequency_score monetary_score RF_SCORE        segment\nmaster_id                                                                                                                              \n00016786-2f5a-11ea-bb80-000d3a38a36f        9          1   776.070             5               1              4       51  new_customers\n00034aaa-a838-11e9-a2fc-000d3a38a36f      297          1   269.470             1               1              1       11    hibernating\n000be838-85df-11ea-a90b-000d3a38a36f      212          1   722.690             2               1              4       21    hibernating\n000c1fe2-a8b7-11ea-8479-000d3a38a36f       26          1   874.160             5               1              4       51  new_customers\n000f5e3e-9dde-11ea-80cd-000d3a38a36f       19          1  1620.330             5               1              5       51  new_customers",
      "text/html": "<div>\n<style scoped>\n    .dataframe tbody tr th:only-of-type {\n        vertical-align: middle;\n    }\n\n    .dataframe tbody tr th {\n        vertical-align: top;\n    }\n\n    .dataframe thead th {\n        text-align: right;\n    }\n</style>\n<table border=\"1\" class=\"dataframe\">\n  <thead>\n    <tr style=\"text-align: right;\">\n      <th></th>\n      <th>Recency</th>\n      <th>Frequency</th>\n      <th>Monetary</th>\n      <th>recency_score</th>\n      <th>frequency_score</th>\n      <th>monetary_score</th>\n      <th>RF_SCORE</th>\n      <th>segment</th>\n    </tr>\n    <tr>\n      <th>master_id</th>\n      <th></th>\n      <th></th>\n      <th></th>\n      <th></th>\n      <th></th>\n      <th></th>\n      <th></th>\n      <th></th>\n    </tr>\n  </thead>\n  <tbody>\n    <tr>\n      <th>00016786-2f5a-11ea-bb80-000d3a38a36f</th>\n      <td>9</td>\n      <td>1</td>\n      <td>776.070</td>\n      <td>5</td>\n      <td>1</td>\n      <td>4</td>\n      <td>51</td>\n      <td>new_customers</td>\n    </tr>\n    <tr>\n      <th>00034aaa-a838-11e9-a2fc-000d3a38a36f</th>\n      <td>297</td>\n      <td>1</td>\n      <td>269.470</td>\n      <td>1</td>\n      <td>1</td>\n      <td>1</td>\n      <td>11</td>\n      <td>hibernating</td>\n    </tr>\n    <tr>\n      <th>000be838-85df-11ea-a90b-000d3a38a36f</th>\n      <td>212</td>\n      <td>1</td>\n      <td>722.690</td>\n      <td>2</td>\n      <td>1</td>\n      <td>4</td>\n      <td>21</td>\n      <td>hibernating</td>\n    </tr>\n    <tr>\n      <th>000c1fe2-a8b7-11ea-8479-000d3a38a36f</th>\n      <td>26</td>\n      <td>1</td>\n      <td>874.160</td>\n      <td>5</td>\n      <td>1</td>\n      <td>4</td>\n      <td>51</td>\n      <td>new_customers</td>\n    </tr>\n    <tr>\n      <th>000f5e3e-9dde-11ea-80cd-000d3a38a36f</th>\n      <td>19</td>\n      <td>1</td>\n      <td>1620.330</td>\n      <td>5</td>\n      <td>1</td>\n      <td>5</td>\n      <td>51</td>\n      <td>new_customers</td>\n    </tr>\n  </tbody>\n</table>\n</div>"
     },
     "execution_count": 46,
     "metadata": {},
     "output_type": "execute_result"
    }
   ],
   "source": [
    "rfm.head()"
   ],
   "metadata": {
    "collapsed": false,
    "ExecuteTime": {
     "end_time": "2023-12-22T16:23:51.144290300Z",
     "start_time": "2023-12-22T16:23:51.087884900Z"
    }
   },
   "id": "be87735658f6748"
  },
  {
   "cell_type": "code",
   "execution_count": 50,
   "outputs": [],
   "source": [
    "rfm['customer_id'] = df['master_id'] "
   ],
   "metadata": {
    "collapsed": false,
    "ExecuteTime": {
     "end_time": "2023-12-22T16:26:01.493055500Z",
     "start_time": "2023-12-22T16:26:01.443976800Z"
    }
   },
   "id": "60c8564f65b32d3a"
  },
  {
   "cell_type": "markdown",
   "source": [
    "Some Actions"
   ],
   "metadata": {
    "collapsed": false
   },
   "id": "9f57fd9a03e6f0b4"
  },
  {
   "cell_type": "code",
   "execution_count": 56,
   "outputs": [],
   "source": [
    "action1 = rfm[rfm['segment'].isin(['champions', 'loyal_customers'])]['customer_id']\n",
    "action1_1 = df[(df[\"master_id\"].isin(action1)) &(df[\"interested_in_categories_12\"].str.contains(\"KADIN\"))][\"master_id\"]"
   ],
   "metadata": {
    "collapsed": false,
    "ExecuteTime": {
     "end_time": "2023-12-22T16:30:49.614195900Z",
     "start_time": "2023-12-22T16:30:49.554209900Z"
    }
   },
   "id": "e7abf3a243551587"
  },
  {
   "cell_type": "code",
   "execution_count": 55,
   "outputs": [],
   "source": [
    "action2 = rfm[rfm[\"segment\"].isin([\"cant_loose\",\"hibernating\",\"new_customers\"])][\"customer_id\"]\n",
    "action2_2 = df[(df[\"master_id\"].isin(action2)) & ((df[\"interested_in_categories_12\"].str.contains(\"ERKEK\"))|(df[\"interested_in_categories_12\"].str.contains(\"COCUK\")))][\"master_id\"]"
   ],
   "metadata": {
    "collapsed": false,
    "ExecuteTime": {
     "end_time": "2023-12-22T16:30:34.835273400Z",
     "start_time": "2023-12-22T16:30:34.765177200Z"
    }
   },
   "id": "39245e43a6de934f"
  }
 ],
 "metadata": {
  "kernelspec": {
   "display_name": "Python 3",
   "language": "python",
   "name": "python3"
  },
  "language_info": {
   "codemirror_mode": {
    "name": "ipython",
    "version": 2
   },
   "file_extension": ".py",
   "mimetype": "text/x-python",
   "name": "python",
   "nbconvert_exporter": "python",
   "pygments_lexer": "ipython2",
   "version": "2.7.6"
  }
 },
 "nbformat": 4,
 "nbformat_minor": 5
}
